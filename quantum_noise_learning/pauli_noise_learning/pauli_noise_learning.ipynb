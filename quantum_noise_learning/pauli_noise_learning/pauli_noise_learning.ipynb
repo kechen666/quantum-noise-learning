{
 "cells": [
  {
   "cell_type": "markdown",
   "metadata": {},
   "source": [
    "# 高效的泡利噪声学习方法\n",
    "\n",
    "泡利噪声学习的协议可以概括如下步骤：\n",
    "1. 选择一系列逐渐增加的深度 $d = [m_0,m_1,...,m_n]$，即深度增加时，错误概率也增加，正确概率减小。\n",
    "2. 为每个深度 $d$ 生成多个随机序列，其中每个门表示一个随机的克利福德门。当 $d=m$ 时，序列为 $[C^{-1}, C_m, C_{m-1}, \\dots, C_2, C_1]$。\n",
    "3. 对于每个序列，运行电路 $N$ 次并进行测量，得到测量结果概率分布 $q(m)$。\n",
    "4. 通过 Walsh-Hadamard 变换，将结果概率分布 $q(m)$ 转换为泡利特征值。\n",
    "5. 利用上述指数衰减模型，采用最小二乘法等拟合方法，拟合对应的深度 $m$ 以及其对应的泡利特征值 $\\lambda_j(m)$，从而得到 $A_0$、$B_0$以及衰减参数 $\\lambda_j$。\n",
    "6. 再次通过逆 Walsh-Hadamard 变换，将泡利特征值 $\\lambda$ 转换为对应的泡利错误率。\n",
    "\n",
    "参考论文：Harper, Robin, et al. “Efficient Learning of Quantum Noise.” Nature Physics, vol. 16, no. 12, Dec. 2020, pp. 1184–88. arXiv.org, https://doi.org/10.1038/s41567-020-0992-8."
   ]
  },
  {
   "cell_type": "markdown",
   "metadata": {},
   "source": [
    "### 步骤一：构建泡利噪声模型"
   ]
  },
  {
   "cell_type": "code",
   "execution_count": 1,
   "metadata": {},
   "outputs": [],
   "source": [
    "from qiskit_aer import AerSimulator\n",
    "from qiskit_aer.noise import NoiseModel, pauli_error\n",
    "\n",
    "# noise model\n",
    "# Example error probabilities\n",
    "p_reset = 0.03\n",
    "p_meas = 0.01\n",
    "\n",
    "p_gate_x = 0.001\n",
    "p_gate_y = 0.000\n",
    "p_gate_z = 0.0000\n",
    "\n",
    "# p_two_gate = 0.1\n",
    "# QuantumError objects\n",
    "error_reset = pauli_error([('X', p_reset), ('I', 1 - p_reset)])\n",
    "error_meas = pauli_error([('X',p_meas), ('I', 1 - p_meas)])\n",
    "error_gate1 = pauli_error([('X',p_gate_x), ('Y',p_gate_y), ('Z',p_gate_z), ('I', 1 - (p_gate_x+p_gate_y+p_gate_z))])\n",
    "\n",
    "error_gate2 = pauli_error([('X',p_gate_x), ('Y',p_gate_y), ('Z',p_gate_z), ('I', 1 - (p_gate_x+p_gate_y+p_gate_z))])\n",
    "error_two_gate = error_gate1.tensor(error_gate1)\n",
    "\n",
    "# Add errors to noise model\n",
    "pauli_noise_model= NoiseModel()\n",
    "pauli_noise_model.add_all_qubit_quantum_error(error_reset, \"reset\")\n",
    "pauli_noise_model.add_all_qubit_quantum_error(error_meas, \"measure\")\n",
    "pauli_noise_model.add_all_qubit_quantum_error(error_gate1, [\"u1\", \"u2\", \"u3\"])\n",
    "pauli_noise_model.add_all_qubit_quantum_error(error_two_gate, [\"cx\"])\n",
    "sim_noise = AerSimulator(noise_model = pauli_noise_model)\n"
   ]
  },
  {
   "cell_type": "markdown",
   "metadata": {},
   "source": [
    "### 步骤二：初始化量子噪声学习参数，运行泡利噪声学习算法。\n",
    "\n",
    "初始化参数，我们考虑两个qubit，其中每次的clifford门数量为100个，暂时其中都为单clifford门，电路重复运行次数为1024次。\n",
    "同时随机clifford电路的深度由1到15逐渐增加。"
   ]
  },
  {
   "cell_type": "code",
   "execution_count": 2,
   "metadata": {},
   "outputs": [],
   "source": [
    "list_m = range(1,15)\n",
    "num_samples = 100\n",
    "# only consider single qubit twirl\n",
    "num_1_qubit_twirl = num_samples\n",
    "num_2_qubit_twirl = int(num_samples - num_1_qubit_twirl)\n",
    "num_qubits = 2\n",
    "shots = 1024\n",
    "seed = 1010"
   ]
  },
  {
   "cell_type": "markdown",
   "metadata": {},
   "source": [
    "运行泡利噪声学习协议。"
   ]
  },
  {
   "cell_type": "code",
   "execution_count": 3,
   "metadata": {},
   "outputs": [
    {
     "name": "stdout",
     "output_type": "stream",
     "text": [
      "now is running m = 1 experement\n",
      "now is running m = 2 experement\n",
      "now is running m = 3 experement\n",
      "now is running m = 4 experement\n",
      "now is running m = 5 experement\n",
      "now is running m = 6 experement\n",
      "now is running m = 7 experement\n",
      "now is running m = 8 experement\n",
      "now is running m = 9 experement\n",
      "now is running m = 10 experement\n",
      "now is running m = 11 experement\n",
      "now is running m = 12 experement\n",
      "now is running m = 13 experement\n",
      "now is running m = 14 experement\n"
     ]
    }
   ],
   "source": [
    "from pauli_noise_learning import random_pauli_benchmarking\n",
    "\n",
    "circuit_list, result_list, statistics_counts_list = random_pauli_benchmarking(num_qubits=num_qubits, rep_m_list = list_m, \n",
    "                                                                              num_1_qubit_twirl=num_1_qubit_twirl, num_2_qubit_twirl=num_2_qubit_twirl,\n",
    "                                                                              shots = shots, sim = sim_noise)"
   ]
  },
  {
   "cell_type": "markdown",
   "metadata": {},
   "source": [
    "### 步骤三：处理泡利噪声学习电路测量值\n",
    "处理泡利噪声学习得到的测量值，进行拟合得到与比特上运行clifford门错误率有关的特征值。"
   ]
  },
  {
   "cell_type": "code",
   "execution_count": 4,
   "metadata": {},
   "outputs": [
    {
     "name": "stdout",
     "output_type": "stream",
     "text": [
      "特征值:  [3.98834900330765, 0.00589927016169212, 0.00575527566549394, -3.54913483324726e-6]\n"
     ]
    }
   ],
   "source": [
    "from pauli_noise_learning import fit_iws_lambda\n",
    "from sympy import fwht\n",
    "\n",
    "#逆 walsh hadamard 变换，同时进行拟合。\n",
    "lambda_list = fit_iws_lambda(list_m, statistics_counts_list, num_qubits, num_samples, shots)\n",
    "\n",
    "#walsh hadamard 变换\n",
    "eigenvalue_list = fwht(lambda_list)\n",
    "print (\"特征值: \", eigenvalue_list)"
   ]
  },
  {
   "cell_type": "markdown",
   "metadata": {},
   "source": [
    "上述泡利特征值（但只存在两个维度，出现泡利错误和不出现泡利错误），与作用一个clifford门引入噪声导致出错概率相关。\n",
    "\n",
    "其中第一个表示都不出错的特征值为3.98802035751038，第二个表示第一个qubit出错的特征值为0.00587375657337752，第三个表示第二个qubit出错的特征值为0.00609302942369494，第四个表示两个qubit都出错的特征值为1.28564925481189e-5。"
   ]
  },
  {
   "cell_type": "markdown",
   "metadata": {},
   "source": [
    "将特征值转换为概率的形式，并且将概率转换为作用一个clifford门之后，量子比特对应的出错率。"
   ]
  },
  {
   "cell_type": "code",
   "execution_count": 5,
   "metadata": {},
   "outputs": [],
   "source": [
    "from pauli_noise_learning import eigenvalue_list_to_pauli_probability, pauli_probability_to_qubit_error_rate\n",
    "\n",
    "probabilities = eigenvalue_list_to_pauli_probability(eigenvalue_list)\n",
    "\n",
    "qubit_error_rates = pauli_probability_to_qubit_error_rate(num_qubits, probabilities)"
   ]
  },
  {
   "cell_type": "code",
   "execution_count": 6,
   "metadata": {},
   "outputs": [
    {
     "name": "stdout",
     "output_type": "stream",
     "text": [
      "泡利噪声学习所获取的特征值:  [1.0, 0.9970521394865706, 0.9971241367346697, 0.994172727086407]\n",
      "特征值转化成的对应概率:  [0.9970846 0.0014757 0.0014397 0.       ]\n",
      "量子比特的出错率（边缘概率）:  [0.0014756995866745345, 0.0014397010903885081]\n"
     ]
    }
   ],
   "source": [
    "print (\"泡利噪声学习所获取的特征值: \", lambda_list)\n",
    "print(\"特征值转化成的对应概率: \",probabilities)\n",
    "print(\"量子比特的出错率（边缘概率）: \", qubit_error_rates)"
   ]
  },
  {
   "cell_type": "markdown",
   "metadata": {},
   "source": [
    "如上所示，我们可以获得作用某个clifford门之后，平均的量子比特错误率为[0.0014756995866745345, 0.0014397010903885081]。"
   ]
  }
 ],
 "metadata": {
  "kernelspec": {
   "display_name": "quantum-RB",
   "language": "python",
   "name": "python3"
  },
  "language_info": {
   "codemirror_mode": {
    "name": "ipython",
    "version": 3
   },
   "file_extension": ".py",
   "mimetype": "text/x-python",
   "name": "python",
   "nbconvert_exporter": "python",
   "pygments_lexer": "ipython3",
   "version": "3.8.18"
  }
 },
 "nbformat": 4,
 "nbformat_minor": 2
}
