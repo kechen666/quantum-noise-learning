{
 "cells": [
  {
   "cell_type": "markdown",
   "metadata": {},
   "source": [
    "# 交叉随机基准测试获取表面码基本门的噪声模型\n",
    "\n",
    "在Surface code电路中，我们通过只包含CNOT门和H门，除此之外可能还要I门表示空闲。\n",
    "\n",
    "因为我们考虑利用交叉随机基准测试的方法，来获取对应的CNOT门、H门作用之后可能引入的去极化噪声到底是多少，同时尝试验证其准确性。"
   ]
  },
  {
   "cell_type": "code",
   "execution_count": 1,
   "metadata": {},
   "outputs": [],
   "source": [
    "import numpy as np\n",
    "\n",
    "from qiskit.providers.fake_provider import FakeSingaporeV2\n",
    "from qiskit_aer import AerSimulator\n",
    "from qiskit_aer.noise import NoiseModel"
   ]
  },
  {
   "cell_type": "markdown",
   "metadata": {},
   "source": [
    "在qiskit考虑的门噪声模型中，是由一个depolarizing noise和一个thermal relaxation noise组合而成。其中thermal relaxation noise是退相干噪声，我们这里只考虑depolarizing noise，即去极化噪声。\n",
    "\n",
    "IRB方法是获取去极化参数，depolarizing noise可以较为精准准确获取，但获取thermal relaxation noise部分会将其转换为depolarizing noise，从而存在误差。"
   ]
  },
  {
   "cell_type": "markdown",
   "metadata": {},
   "source": [
    "获取对应噪声模型以及其含噪模拟后端，其中前者包含退相干噪声，后者不包含。"
   ]
  },
  {
   "cell_type": "code",
   "execution_count": 2,
   "metadata": {},
   "outputs": [],
   "source": [
    "backend = AerSimulator.from_backend(FakeSingaporeV2())\n",
    "backend_noise_model = NoiseModel.from_backend(backend)\n",
    "\n",
    "backend_noise_model_no_thermal_relaxation = NoiseModel.from_backend(backend,thermal_relaxation=False)\n",
    "backend_no_thermal_relaxation = AerSimulator(noise_model = backend_noise_model_no_thermal_relaxation, n_qubits = backend.num_qubits, coupling_map = backend.coupling_map, basis_gates = backend._basis_gates())"
   ]
  },
  {
   "cell_type": "markdown",
   "metadata": {},
   "source": [
    "设置交叉随机基准测试的参数。"
   ]
  },
  {
   "cell_type": "code",
   "execution_count": 3,
   "metadata": {},
   "outputs": [],
   "source": [
    "lengths = np.arange(1, 121+1, 30)\n",
    "num_samples = 10\n",
    "seed = 1010"
   ]
  },
  {
   "cell_type": "markdown",
   "metadata": {},
   "source": [
    "通过交叉随机基准测试，获取在对应噪声模型上运行，CNOT门和H门作用后引入的去极化噪声参数为多少。\n",
    "普通计算机，在上述噪声模型下，大约运行4分多钟"
   ]
  },
  {
   "cell_type": "code",
   "execution_count": 4,
   "metadata": {},
   "outputs": [],
   "source": [
    "from irb_for_surface_code_gate import interleaved_rb_QEC, get_surface_code_noise_model\n",
    "\n",
    "h_gate_error, id_gate_error, cx_gate_error, unique_pairs = interleaved_rb_QEC(backend, lengths, num_samples, seed)\n",
    "\n",
    "h_gate_error_no_thermal_relaxation, id_gate_error_no_thermal_relaxation, cx_gate_error_no_thermal_relaxation, unique_pairs = interleaved_rb_QEC(backend_no_thermal_relaxation, lengths, num_samples, seed)"
   ]
  },
  {
   "cell_type": "markdown",
   "metadata": {},
   "source": [
    "构建CNOT、H、I门的噪声模型。"
   ]
  },
  {
   "cell_type": "code",
   "execution_count": 5,
   "metadata": {},
   "outputs": [],
   "source": [
    "sim_noise, noise_model = get_surface_code_noise_model(h_gate_error, id_gate_error, cx_gate_error, backend, backend_noise_model)\n",
    "\n",
    "sim_noise_no_thermal_relaxation, no_thermal_relaxation_noise_model = get_surface_code_noise_model(h_gate_error_no_thermal_relaxation, id_gate_error_no_thermal_relaxation, cx_gate_error_no_thermal_relaxation, backend_no_thermal_relaxation, backend_noise_model_no_thermal_relaxation)"
   ]
  },
  {
   "cell_type": "markdown",
   "metadata": {},
   "source": [
    "对比噪声模型的I门和通过IRB学习到的噪声模型I门的过程保真度"
   ]
  },
  {
   "cell_type": "code",
   "execution_count": 6,
   "metadata": {},
   "outputs": [
    {
     "name": "stdout",
     "output_type": "stream",
     "text": [
      "考虑thermal_relaxiaiton噪声, 实际和学习到的噪声模型之间的噪声通道过程保真度: 0.9997780019682114\n",
      "不考虑thermal_relaxiaiton噪声, 实际和学习到的噪声模型之间的噪声通道过程保真度: 0.999974779254305\n"
     ]
    }
   ],
   "source": [
    "from irb_for_surface_code_gate import i_gate_fidelity\n",
    "i_gate_fidelity(id_gate_error, id_gate_error_no_thermal_relaxation, backend_noise_model, backend_noise_model_no_thermal_relaxation)"
   ]
  },
  {
   "cell_type": "markdown",
   "metadata": {},
   "source": [
    "我们可以看到，不考虑thermal_relaxiaiton比考虑thermal_relaxiaiton，过程保真度高了一个数据级。即使考虑thermal_relaxiaiton，学习到的噪声模型与实际噪声模型之间的过程保真度也相当高。"
   ]
  },
  {
   "cell_type": "markdown",
   "metadata": {},
   "source": [
    "考虑CNOT门的结果如下所示："
   ]
  },
  {
   "cell_type": "code",
   "execution_count": 7,
   "metadata": {},
   "outputs": [
    {
     "ename": "ImportError",
     "evalue": "cannot import name 'cnot_gate_process_fidelity' from 'irb_for_surface_code_gate' (c:\\Users\\86178\\Desktop\\Senior\\Quantum-research\\LINKEQ\\quantum-noise-learning\\quantum_noise_learning\\interleaved_randomized_benchmarking\\irb_for_surface_code_gate.py)",
     "output_type": "error",
     "traceback": [
      "\u001b[1;31m---------------------------------------------------------------------------\u001b[0m",
      "\u001b[1;31mImportError\u001b[0m                               Traceback (most recent call last)",
      "Cell \u001b[1;32mIn[7], line 2\u001b[0m\n\u001b[0;32m      1\u001b[0m \u001b[38;5;66;03m# 考虑CNOT门\u001b[39;00m\n\u001b[1;32m----> 2\u001b[0m \u001b[38;5;28;01mfrom\u001b[39;00m \u001b[38;5;21;01mirb_for_surface_code_gate\u001b[39;00m \u001b[38;5;28;01mimport\u001b[39;00m cnot_gate_process_fidelity\n\u001b[0;32m      4\u001b[0m cnot_gate_process_fidelity(cx_gate_error, cx_gate_error_no_thermal_relaxation, backend_noise_model, backend_noise_model_no_thermal_relaxation)\n",
      "\u001b[1;31mImportError\u001b[0m: cannot import name 'cnot_gate_process_fidelity' from 'irb_for_surface_code_gate' (c:\\Users\\86178\\Desktop\\Senior\\Quantum-research\\LINKEQ\\quantum-noise-learning\\quantum_noise_learning\\interleaved_randomized_benchmarking\\irb_for_surface_code_gate.py)"
     ]
    }
   ],
   "source": [
    "# 考虑CNOT门\n",
    "from irb_for_surface_code_gate import cnot_gate_process_fidelity\n",
    "\n",
    "cnot_gate_process_fidelity(cx_gate_error, cx_gate_error_no_thermal_relaxation, backend_noise_model, backend_noise_model_no_thermal_relaxation)"
   ]
  },
  {
   "cell_type": "markdown",
   "metadata": {},
   "source": [
    "由于本身不支持H门，因为我们通过hellinger_fidelity和hellinger_distance来估计。"
   ]
  },
  {
   "cell_type": "markdown",
   "metadata": {},
   "source": [
    "考虑退相干噪声："
   ]
  },
  {
   "cell_type": "code",
   "execution_count": null,
   "metadata": {},
   "outputs": [
    {
     "name": "stdout",
     "output_type": "stream",
     "text": [
      "学习噪声模型结果:{'0': 18769, '1': 1711}, 实际噪声模型结果:{'0': 19722, '1': 758}\n",
      "hellinger距离:0.0704227908009819, hellinger保真度:0.9901058564170847\n"
     ]
    }
   ],
   "source": [
    "from irb_for_surface_code_gate import h_gate_hellinger_fidelity\n",
    "\n",
    "h_gate_hellinger_fidelity(sim_noise, backend)"
   ]
  },
  {
   "cell_type": "markdown",
   "metadata": {},
   "source": [
    "不考虑退相干噪声："
   ]
  },
  {
   "cell_type": "code",
   "execution_count": null,
   "metadata": {},
   "outputs": [
    {
     "name": "stdout",
     "output_type": "stream",
     "text": [
      "学习噪声模型结果:{'0': 19587, '1': 893}, 实际噪声模型结果:{'0': 19701, '1': 779}\n",
      "hellinger距离:0.009951401955855445, hellinger保真度:0.9998019490052463\n"
     ]
    }
   ],
   "source": [
    "h_gate_hellinger_fidelity(sim_noise_no_thermal_relaxation, backend_no_thermal_relaxation)"
   ]
  }
 ],
 "metadata": {
  "kernelspec": {
   "display_name": "quantum-RB",
   "language": "python",
   "name": "python3"
  },
  "language_info": {
   "codemirror_mode": {
    "name": "ipython",
    "version": 3
   },
   "file_extension": ".py",
   "mimetype": "text/x-python",
   "name": "python",
   "nbconvert_exporter": "python",
   "pygments_lexer": "ipython3",
   "version": "3.8.18"
  }
 },
 "nbformat": 4,
 "nbformat_minor": 2
}
